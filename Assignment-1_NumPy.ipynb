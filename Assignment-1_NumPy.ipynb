{
 "cells": [
  {
   "cell_type": "code",
   "execution_count": 11,
   "id": "e2098a9f",
   "metadata": {},
   "outputs": [
    {
     "data": {
      "text/plain": [
       "array([0, 0, 0, 0, 1, 0, 0, 0, 0, 0])"
      ]
     },
     "execution_count": 11,
     "metadata": {},
     "output_type": "execute_result"
    }
   ],
   "source": [
    "# 1. Create a null vector of size 10 but the fifth value which is 1.\n",
    "\n",
    "import numpy as np\n",
    "x = np.zeros(10 ,dtype = int)\n",
    "x[4]=1\n",
    "x"
   ]
  },
  {
   "cell_type": "code",
   "execution_count": 19,
   "id": "eb8edc1b",
   "metadata": {},
   "outputs": [
    {
     "name": "stdout",
     "output_type": "stream",
     "text": [
      "[10 11 12 13 14 15 16 17 18 19 20 21 22 23 24 25 26 27 28 29 30 31 32 33\n",
      " 34 35 36 37 38 39 40 41 42 43 44 45 46 47 48 49]\n"
     ]
    }
   ],
   "source": [
    "# 2. Create a vector with values ranging from 10 to 49.\n",
    "\n",
    "x = np.arange(10,50)\n",
    "print(x)\n"
   ]
  },
  {
   "cell_type": "code",
   "execution_count": 20,
   "id": "090bcc48",
   "metadata": {},
   "outputs": [
    {
     "name": "stdout",
     "output_type": "stream",
     "text": [
      "[[0 1 2]\n",
      " [3 4 5]\n",
      " [6 7 8]]\n"
     ]
    }
   ],
   "source": [
    "# 3. Create a 3x3 matrix with values ranging from 0 to 8.\n",
    "\n",
    "x =  np.arange(0, 9).reshape(3,3)\n",
    "print(x)"
   ]
  },
  {
   "cell_type": "code",
   "execution_count": 22,
   "id": "9eddaad0",
   "metadata": {},
   "outputs": [
    {
     "name": "stdout",
     "output_type": "stream",
     "text": [
      "[1, 2, 4]\n"
     ]
    }
   ],
   "source": [
    "# 4. Find indices of non-zero elements from [1,2,0,0,4,0].\n",
    "\n",
    "A = [1,2,0,0,4,0]\n",
    "B = []\n",
    "\n",
    "for i in range(len(A)):\n",
    "    if A[i] != 0:\n",
    "        B.append(A[i])\n",
    "        \n",
    "print(B)"
   ]
  },
  {
   "cell_type": "code",
   "execution_count": 27,
   "id": "67e566f1",
   "metadata": {},
   "outputs": [
    {
     "name": "stdout",
     "output_type": "stream",
     "text": [
      "[[0.03196527 0.22005591 0.44437444 0.89491531 0.83407819 0.86114413\n",
      "  0.00741453 0.37331755 0.00648504 0.61999982]\n",
      " [0.68234311 0.45605285 0.70305121 0.87532536 0.01889902 0.16850151\n",
      "  0.92700492 0.03494069 0.64891598 0.00841631]\n",
      " [0.29640486 0.19958385 0.05971277 0.83523829 0.40569656 0.27309265\n",
      "  0.8001524  0.8197386  0.53613967 0.89675291]\n",
      " [0.8436187  0.77824441 0.46874311 0.25409264 0.72734854 0.81419075\n",
      "  0.03614347 0.31667395 0.75783421 0.84442095]\n",
      " [0.56074115 0.60247884 0.38358506 0.7552057  0.49403998 0.44027835\n",
      "  0.79309869 0.50033311 0.03887527 0.25937025]\n",
      " [0.9771977  0.10394556 0.56818204 0.39889597 0.59320312 0.37542223\n",
      "  0.16060423 0.25362191 0.59865826 0.41747425]\n",
      " [0.65836224 0.70888007 0.62169232 0.82434601 0.06328364 0.51224482\n",
      "  0.25745891 0.68967993 0.90743351 0.36755189]\n",
      " [0.70509958 0.24026549 0.6956542  0.41410544 0.8677414  0.6625575\n",
      "  0.80018485 0.50748003 0.49641563 0.20610011]\n",
      " [0.10907817 0.25070026 0.33828883 0.85929275 0.52236906 0.20954666\n",
      "  0.58763427 0.8335108  0.12530828 0.171679  ]\n",
      " [0.65227116 0.59424838 0.37067593 0.49163305 0.57867417 0.81020045\n",
      "  0.08998976 0.83447291 0.31613279 0.71752486]]\n",
      "Minimum and Maximum Values:\n",
      "0.006485035138181883 0.9771976981062489\n"
     ]
    }
   ],
   "source": [
    "# 5. Create a 10x10 array with random values and find the minimum and maximum values.\n",
    "\n",
    "x = np.random.random((10,10))\n",
    "print(x) \n",
    "xmin = x.min() \n",
    "xmax = x.max()\n",
    "print(\"Minimum and Maximum Values:\")\n",
    "print(xmin, xmax)"
   ]
  },
  {
   "cell_type": "code",
   "execution_count": 31,
   "id": "5f1cdd78",
   "metadata": {},
   "outputs": [
    {
     "name": "stdout",
     "output_type": "stream",
     "text": [
      "0.467588772353736\n"
     ]
    }
   ],
   "source": [
    "# 6. Create a random vector of size 30 and find the mean value.\n",
    "    \n",
    "x = np.random.random((30))\n",
    "mean=np.mean(x)\n",
    "print(mean)\n"
   ]
  },
  {
   "cell_type": "code",
   "execution_count": null,
   "id": "ebb8e1b9",
   "metadata": {},
   "outputs": [],
   "source": []
  }
 ],
 "metadata": {
  "kernelspec": {
   "display_name": "Python 3 (ipykernel)",
   "language": "python",
   "name": "python3"
  },
  "language_info": {
   "codemirror_mode": {
    "name": "ipython",
    "version": 3
   },
   "file_extension": ".py",
   "mimetype": "text/x-python",
   "name": "python",
   "nbconvert_exporter": "python",
   "pygments_lexer": "ipython3",
   "version": "3.9.12"
  }
 },
 "nbformat": 4,
 "nbformat_minor": 5
}
